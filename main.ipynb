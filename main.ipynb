{
 "cells": [
  {
   "cell_type": "code",
   "execution_count": null,
   "metadata": {},
   "outputs": [],
   "source": [
    "import pandas as pd\n",
    "\n",
    "df = pd.read_json(\"farmers-protest-tweets-2021-03-5.json\", lines=True)\n"
   ]
  },
  {
   "cell_type": "code",
   "execution_count": null,
   "metadata": {},
   "outputs": [],
   "source": [
    "# Los tweets más retweeted. Default primeros 10\n",
    "def most_retweeted(n=10):\n",
    "    return df[\"retweetCount\"].nlargest(n)\n",
    "\n",
    "\n",
    "# Los usuarios que más tweets que emitieron. Default primeros 10\n",
    "def top_tweeting_users(n=10):\n",
    "    pass\n",
    "\n",
    "\n",
    "# Los días donde hay más tweets. Default primeros 10\n",
    "def top_tweet_days(n=10):\n",
    "    pass\n",
    "\n",
    "\n",
    "# Los hashtags más usados. Default primeros 10\n",
    "def most_used_hastags(n=10):\n",
    "    pass\n"
   ]
  },
  {
   "cell_type": "code",
   "execution_count": null,
   "metadata": {},
   "outputs": [],
   "source": [
    "def main():\n",
    "    most_retweeted()\n",
    "\n",
    "\n",
    "if __name__ == \"__main__\":\n",
    "    main()\n"
   ]
  }
 ],
 "metadata": {
  "kernelspec": {
   "display_name": "Python 3.10.5 ('mlp')",
   "language": "python",
   "name": "python3"
  },
  "language_info": {
   "codemirror_mode": {
    "name": "ipython",
    "version": 3
   },
   "file_extension": ".py",
   "mimetype": "text/x-python",
   "name": "python",
   "nbconvert_exporter": "python",
   "pygments_lexer": "ipython3",
   "version": "3.10.5"
  },
  "orig_nbformat": 4,
  "vscode": {
   "interpreter": {
    "hash": "625e64b0f281421fa33bc8a6a7352343c3db14b74ddd832f8956d91a32747f87"
   }
  }
 },
 "nbformat": 4,
 "nbformat_minor": 2
}
